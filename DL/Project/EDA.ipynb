{
 "cells": [
  {
   "cell_type": "markdown",
   "metadata": {},
   "source": [
    "# Project"
   ]
  },
  {
   "cell_type": "markdown",
   "metadata": {},
   "source": [
    "# Imports"
   ]
  },
  {
   "cell_type": "code",
   "execution_count": 1,
   "metadata": {},
   "outputs": [],
   "source": [
    "import pandas as pd\n",
    "import numpy as np\n",
    "import datetime as dt\n",
    "import matplotlib.pyplot as plt  # Corrected spelling\n",
    "import seaborn as sns  # For enhanced data visualization\n",
    "from scipy import stats  # For statistical tests\n",
    "import warnings  # To suppress warnings during EDA\n",
    "import re\n",
    "warnings.filterwarnings(\"ignore\")  # Optional, to make output cleaner"
   ]
  },
  {
   "cell_type": "markdown",
   "metadata": {},
   "source": [
    "## Load Data"
   ]
  },
  {
   "cell_type": "code",
   "execution_count": null,
   "metadata": {},
   "outputs": [],
   "source": [
    "df_raw = pd.read_excel(\"data_for_analysis.xlsx\")\n",
    "df_raw.head(3)\n"
   ]
  },
  {
   "cell_type": "code",
   "execution_count": 19,
   "metadata": {},
   "outputs": [],
   "source": [
    "df = pd.DataFrame({})"
   ]
  },
  {
   "cell_type": "markdown",
   "metadata": {},
   "source": [
    "## Convert numeric columns"
   ]
  },
  {
   "cell_type": "code",
   "execution_count": 26,
   "metadata": {},
   "outputs": [],
   "source": [
    "df['numeric_key'] = df_raw['key'].str.split('-').str[1].astype(int)\n",
    "df['fields.Analysis'] = df_raw['fields.Analysis'].astype(str)\n"
   ]
  },
  {
   "cell_type": "code",
   "execution_count": 23,
   "metadata": {},
   "outputs": [],
   "source": [
    "# # Function to extract numeric part from outwardIssue or inwardIssue\n",
    "# def extract_nccfm_key(issue_links):\n",
    "#     if issue_links and isinstance(issue_links, list):  # Check if not None and is a list\n",
    "#         for link in issue_links:\n",
    "#             # Check outwardIssue\n",
    "#             if 'outwardIssue' in link and 'key' in link['outwardIssue']:\n",
    "#                 match = re.search(r'NCCFM-(\\d+)', link['outwardIssue']['key'])\n",
    "#                 if match:\n",
    "#                     return int(match.group(1))  # Extract numeric part\n",
    "            \n",
    "#             # Check inwardIssue\n",
    "#             if 'inwardIssue' in link and 'key' in link['inwardIssue']:\n",
    "#                 match = re.search(r'NCCFM-(\\d+)', link['inwardIssue']['key'])\n",
    "#                 if match:\n",
    "#                     return int(match.group(1))  # Extract numeric part\n",
    "#     return None  # Return None if no match\n",
    "\n",
    "# # Load the data\n",
    "# df_raw = pd.read_excel(\"data_for_analysis.xlsx\")\n",
    "\n",
    "# # Apply the function to extract the numeric keys\n",
    "# df_raw['extracted_key'] = df_raw['fields.issuelinks'].apply(extract_nccfm_key)"
   ]
  },
  {
   "cell_type": "code",
   "execution_count": 27,
   "metadata": {},
   "outputs": [
    {
     "data": {
      "text/html": [
       "<div>\n",
       "<style scoped>\n",
       "    .dataframe tbody tr th:only-of-type {\n",
       "        vertical-align: middle;\n",
       "    }\n",
       "\n",
       "    .dataframe tbody tr th {\n",
       "        vertical-align: top;\n",
       "    }\n",
       "\n",
       "    .dataframe thead th {\n",
       "        text-align: right;\n",
       "    }\n",
       "</style>\n",
       "<table border=\"1\" class=\"dataframe\">\n",
       "  <thead>\n",
       "    <tr style=\"text-align: right;\">\n",
       "      <th></th>\n",
       "      <th>numeric_key</th>\n",
       "      <th>extracted_key</th>\n",
       "      <th>fields.issuelinks</th>\n",
       "    </tr>\n",
       "  </thead>\n",
       "  <tbody>\n",
       "    <tr>\n",
       "      <th>0</th>\n",
       "      <td>10561</td>\n",
       "      <td>None</td>\n",
       "      <td>[]</td>\n",
       "    </tr>\n",
       "    <tr>\n",
       "      <th>1</th>\n",
       "      <td>10560</td>\n",
       "      <td>None</td>\n",
       "      <td>[]</td>\n",
       "    </tr>\n",
       "    <tr>\n",
       "      <th>2</th>\n",
       "      <td>10559</td>\n",
       "      <td>None</td>\n",
       "      <td>[]</td>\n",
       "    </tr>\n",
       "    <tr>\n",
       "      <th>3</th>\n",
       "      <td>10558</td>\n",
       "      <td>None</td>\n",
       "      <td>[]</td>\n",
       "    </tr>\n",
       "    <tr>\n",
       "      <th>4</th>\n",
       "      <td>10557</td>\n",
       "      <td>None</td>\n",
       "      <td>[]</td>\n",
       "    </tr>\n",
       "    <tr>\n",
       "      <th>5</th>\n",
       "      <td>10556</td>\n",
       "      <td>None</td>\n",
       "      <td>[]</td>\n",
       "    </tr>\n",
       "    <tr>\n",
       "      <th>6</th>\n",
       "      <td>10555</td>\n",
       "      <td>None</td>\n",
       "      <td>[{'id': '14232186', 'self': 'https://jiradc2.e...</td>\n",
       "    </tr>\n",
       "    <tr>\n",
       "      <th>7</th>\n",
       "      <td>10554</td>\n",
       "      <td>None</td>\n",
       "      <td>[]</td>\n",
       "    </tr>\n",
       "    <tr>\n",
       "      <th>8</th>\n",
       "      <td>10553</td>\n",
       "      <td>None</td>\n",
       "      <td>[]</td>\n",
       "    </tr>\n",
       "    <tr>\n",
       "      <th>9</th>\n",
       "      <td>10552</td>\n",
       "      <td>None</td>\n",
       "      <td>[]</td>\n",
       "    </tr>\n",
       "  </tbody>\n",
       "</table>\n",
       "</div>"
      ],
      "text/plain": [
       "   numeric_key extracted_key  \\\n",
       "0        10561          None   \n",
       "1        10560          None   \n",
       "2        10559          None   \n",
       "3        10558          None   \n",
       "4        10557          None   \n",
       "5        10556          None   \n",
       "6        10555          None   \n",
       "7        10554          None   \n",
       "8        10553          None   \n",
       "9        10552          None   \n",
       "\n",
       "                                   fields.issuelinks  \n",
       "0                                                 []  \n",
       "1                                                 []  \n",
       "2                                                 []  \n",
       "3                                                 []  \n",
       "4                                                 []  \n",
       "5                                                 []  \n",
       "6  [{'id': '14232186', 'self': 'https://jiradc2.e...  \n",
       "7                                                 []  \n",
       "8                                                 []  \n",
       "9                                                 []  "
      ]
     },
     "execution_count": 27,
     "metadata": {},
     "output_type": "execute_result"
    }
   ],
   "source": [
    "df.head(10)"
   ]
  },
  {
   "cell_type": "markdown",
   "metadata": {},
   "source": [
    "## Convert Categorical columns"
   ]
  },
  {
   "cell_type": "code",
   "execution_count": null,
   "metadata": {},
   "outputs": [],
   "source": []
  },
  {
   "cell_type": "markdown",
   "metadata": {},
   "source": [
    "## Convert Oridinal columns\n"
   ]
  },
  {
   "cell_type": "markdown",
   "metadata": {},
   "source": []
  }
 ],
 "metadata": {
  "kernelspec": {
   "display_name": "Python 3",
   "language": "python",
   "name": "python3"
  },
  "language_info": {
   "codemirror_mode": {
    "name": "ipython",
    "version": 3
   },
   "file_extension": ".py",
   "mimetype": "text/x-python",
   "name": "python",
   "nbconvert_exporter": "python",
   "pygments_lexer": "ipython3",
   "version": "3.11.9"
  }
 },
 "nbformat": 4,
 "nbformat_minor": 2
}
