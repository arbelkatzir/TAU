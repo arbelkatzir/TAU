{
 "cells": [
  {
   "cell_type": "markdown",
   "metadata": {},
   "source": [
    "# Q5"
   ]
  },
  {
   "cell_type": "markdown",
   "metadata": {},
   "source": [
    "## Q5.1"
   ]
  },
  {
   "cell_type": "code",
   "execution_count": 1,
   "metadata": {},
   "outputs": [
    {
     "data": {
      "text/html": [
       "<div>\n",
       "<style scoped>\n",
       "    .dataframe tbody tr th:only-of-type {\n",
       "        vertical-align: middle;\n",
       "    }\n",
       "\n",
       "    .dataframe tbody tr th {\n",
       "        vertical-align: top;\n",
       "    }\n",
       "\n",
       "    .dataframe thead th {\n",
       "        text-align: right;\n",
       "    }\n",
       "</style>\n",
       "<table border=\"1\" class=\"dataframe\">\n",
       "  <thead>\n",
       "    <tr style=\"text-align: right;\">\n",
       "      <th></th>\n",
       "      <th>product_id</th>\n",
       "      <th>accepted</th>\n",
       "    </tr>\n",
       "  </thead>\n",
       "  <tbody>\n",
       "    <tr>\n",
       "      <th>0</th>\n",
       "      <td>1</td>\n",
       "      <td>1</td>\n",
       "    </tr>\n",
       "    <tr>\n",
       "      <th>1</th>\n",
       "      <td>2</td>\n",
       "      <td>1</td>\n",
       "    </tr>\n",
       "    <tr>\n",
       "      <th>2</th>\n",
       "      <td>3</td>\n",
       "      <td>1</td>\n",
       "    </tr>\n",
       "    <tr>\n",
       "      <th>3</th>\n",
       "      <td>4</td>\n",
       "      <td>1</td>\n",
       "    </tr>\n",
       "    <tr>\n",
       "      <th>4</th>\n",
       "      <td>5</td>\n",
       "      <td>1</td>\n",
       "    </tr>\n",
       "    <tr>\n",
       "      <th>...</th>\n",
       "      <td>...</td>\n",
       "      <td>...</td>\n",
       "    </tr>\n",
       "    <tr>\n",
       "      <th>995</th>\n",
       "      <td>996</td>\n",
       "      <td>1</td>\n",
       "    </tr>\n",
       "    <tr>\n",
       "      <th>996</th>\n",
       "      <td>997</td>\n",
       "      <td>1</td>\n",
       "    </tr>\n",
       "    <tr>\n",
       "      <th>997</th>\n",
       "      <td>998</td>\n",
       "      <td>1</td>\n",
       "    </tr>\n",
       "    <tr>\n",
       "      <th>998</th>\n",
       "      <td>999</td>\n",
       "      <td>1</td>\n",
       "    </tr>\n",
       "    <tr>\n",
       "      <th>999</th>\n",
       "      <td>1000</td>\n",
       "      <td>1</td>\n",
       "    </tr>\n",
       "  </tbody>\n",
       "</table>\n",
       "<p>1000 rows × 2 columns</p>\n",
       "</div>"
      ],
      "text/plain": [
       "     product_id  accepted\n",
       "0             1         1\n",
       "1             2         1\n",
       "2             3         1\n",
       "3             4         1\n",
       "4             5         1\n",
       "..          ...       ...\n",
       "995         996         1\n",
       "996         997         1\n",
       "997         998         1\n",
       "998         999         1\n",
       "999        1000         1\n",
       "\n",
       "[1000 rows x 2 columns]"
      ]
     },
     "execution_count": 1,
     "metadata": {},
     "output_type": "execute_result"
    }
   ],
   "source": [
    "# Import required libraries\n",
    "import numpy as np\n",
    "import pandas as pd\n",
    "import random\n",
    "\n",
    "# Set random seed\n",
    "np.random.seed(42)\n",
    "\n",
    "# Define total number of products\n",
    "number_of_products = 1000\n",
    "\n",
    "\n",
    "gen_1_98 = [0 if random.random() < 0.02 else 1 for _ in range(1000)]\n",
    "\n",
    "# Create data dictionary\n",
    "data = {'product_id':np.arange(1, number_of_products+1).tolist(),\n",
    "       'accepted':gen_1_98}\n",
    "\n",
    "# Transform dictionary into a data frame\n",
    "df = pd.DataFrame(data)\n",
    "\n",
    "# View data frame\n",
    "df"
   ]
  },
  {
   "cell_type": "markdown",
   "metadata": {},
   "source": [
    "---"
   ]
  },
  {
   "cell_type": "markdown",
   "metadata": {},
   "source": [
    "## Q5.2"
   ]
  },
  {
   "cell_type": "code",
   "execution_count": null,
   "metadata": {},
   "outputs": [],
   "source": [
    "def double_sampling(df, n1, n2, r1, c1, c2):\n",
    "    x1 = 0\n",
    "    x2 = 0\n",
    "\n",
    "    # first sampling\n",
    "    first_sample = df.sample(n=n1).sort_values(by='product_id')\n",
    "    denied_products1 =first_sample['accepted'].value_counts(0)\n",
    "    x1 = int(denied_products1[1])\n",
    "    if x1 <= c1:\n",
    "        return \"a1\", x1, x2# accaped in the first sampling\n",
    "    if x1 >= r1:\n",
    "        return \"r1\", x1, x2 # rejected in the first sampling\n",
    "    \n",
    "    # Remove the first sample from the DataFrame (without replacement)\n",
    "    remaining_df = df.drop(first_sample.index)\n",
    "    \n",
    "    # second sampling\n",
    "    second_sample = remaining_df.sample(n=n2, random_state=42).sort_values(by='product_id')\n",
    "    denied_products2 = second_sample['accepted'].value_counts(0)\n",
    "    x2 = int(denied_products2[1])\n",
    "    \n",
    "    # Check acceptance after the second sample\n",
    "    if x1 + x2 <= c2:\n",
    "        return \"a2\", x1, x2 # accaped in the second sampling\n",
    "    \n",
    "    return \"a2\" , x1, x2# rejected in the second sampling"
   ]
  },
  {
   "cell_type": "code",
   "execution_count": null,
   "metadata": {},
   "outputs": [
    {
     "name": "stdout",
     "output_type": "stream",
     "text": [
      "The batch was rejected in the first sampling with 48 damaged items.\n"
     ]
    }
   ],
   "source": [
    "phase_flag, x1, x2 = double_sampling(df=df, n1=50, n2=50, r1=2, c1=0, c2=2)\n",
    "\n",
    "if phase_flag == \"a1\":\n",
    "    print(f\"The batch was accepted in the first sampling with {x1 + x2} damaged items.\")\n",
    "elif phase_flag == \"r1\":\n",
    "    print(f\"The batch was rejected in the first sampling with {x1 + x2} damaged items.\")\n",
    "elif phase_flag == \"a2\":\n",
    "    print(f\"The batch was accepted in the second sampling with {x1 + x2} damaged items.\")\n",
    "else:\n",
    "    print(f\"The batch was rejected in the second sampling with {x1 + x2} damaged items.\")"
   ]
  },
  {
   "cell_type": "markdown",
   "metadata": {},
   "source": [
    "### Explanation of the Double Sampling Process\n",
    "\n",
    "The code implements a **double sampling procedure** to evaluate whether a batch should be accepted or rejected based on defective items:\n",
    "\n",
    "1. **First Sampling**:\n",
    "   - A specified number of items (`n1`) is drawn from the dataset **without replacement**.\n",
    "   - The number of defective items (`x1`) is counted.\n",
    "   - Decision rules:\n",
    "     - If `x1 <= c1`, the batch is **accepted immediately** (`a1`).\n",
    "     - If `x1 >= r1`, the batch is **rejected immediately** (`r1`).\n",
    "     - Otherwise, a second sampling is performed.\n",
    "\n",
    "2. **Second Sampling**:\n",
    "   - Another sample of size `n2` is drawn from the remaining items.\n",
    "   - The number of defective items in this sample (`x2`) is counted.\n",
    "   - The total defective items (`x1 + x2`) from both samples is evaluated:\n",
    "     - If the total defective items are `<= c2`, the batch is **accepted** (`a2`).\n",
    "     - Otherwise, the batch is **rejected**.\n",
    "\n",
    "### Result of the Sampling\n",
    "In this specific run, the batch was **rejected in the first sampling** because the number of defective items (`x1 = 48`) exceeded the rejection threshold (`r1 = 2`)."
   ]
  },
  {
   "cell_type": "markdown",
   "metadata": {},
   "source": [
    "---"
   ]
  },
  {
   "cell_type": "markdown",
   "metadata": {},
   "source": [
    "## Q5.3"
   ]
  },
  {
   "cell_type": "code",
   "execution_count": 19,
   "metadata": {},
   "outputs": [],
   "source": [
    "from scipy.stats import poisson"
   ]
  },
  {
   "cell_type": "code",
   "execution_count": 20,
   "metadata": {},
   "outputs": [
    {
     "name": "stdout",
     "output_type": "stream",
     "text": [
      "Producer's Risk (alpha): 0.3614\n"
     ]
    }
   ],
   "source": [
    "# Calculate producer's risk (alpha)\n",
    "lambda_1 = 50 * 0.02  # Expected defects in the first sample\n",
    "p_a1 = poisson.cdf(0, lambda_1)  # Probability of acceptance after the first sample\n",
    "\n",
    "lambda_2 = 50 * 0.02  # Expected defects in the second sample\n",
    "p_a2 = poisson.pmf(1, lambda_1) * poisson.cdf(1, lambda_2)  # Probability of acceptance after the second sample\n",
    "\n",
    "p_a = p_a1 + p_a2  # Total probability of acceptance\n",
    "alpha = 1 - p_a  # Producer's risk\n",
    "\n",
    "print(f\"Producer's Risk (alpha): {alpha:.4f}\")"
   ]
  }
 ],
 "metadata": {
  "kernelspec": {
   "display_name": "Python 3",
   "language": "python",
   "name": "python3"
  },
  "language_info": {
   "codemirror_mode": {
    "name": "ipython",
    "version": 3
   },
   "file_extension": ".py",
   "mimetype": "text/x-python",
   "name": "python",
   "nbconvert_exporter": "python",
   "pygments_lexer": "ipython3",
   "version": "3.11.9"
  }
 },
 "nbformat": 4,
 "nbformat_minor": 4
}
